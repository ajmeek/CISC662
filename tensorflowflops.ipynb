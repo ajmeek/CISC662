{
  "nbformat": 4,
  "nbformat_minor": 0,
  "metadata": {
    "colab": {
      "provenance": [],
      "authorship_tag": "ABX9TyOPxl70VGay0PmhVcPck6aY",
      "include_colab_link": true
    },
    "kernelspec": {
      "name": "python3",
      "display_name": "Python 3"
    },
    "language_info": {
      "name": "python"
    }
  },
  "cells": [
    {
      "cell_type": "markdown",
      "metadata": {
        "id": "view-in-github",
        "colab_type": "text"
      },
      "source": [
        "<a href=\"https://colab.research.google.com/github/ameek2/CISC662/blob/master/tensorflowflops.ipynb\" target=\"_parent\"><img src=\"https://colab.research.google.com/assets/colab-badge.svg\" alt=\"Open In Colab\"/></a>"
      ]
    },
    {
      "cell_type": "code",
      "execution_count": 4,
      "metadata": {
        "colab": {
          "base_uri": "https://localhost:8080/"
        },
        "id": "JGc0EVcuNMoK",
        "outputId": "85381a6d-5b5e-4061-8699-38ffa7c893c3"
      },
      "outputs": [
        {
          "output_type": "stream",
          "name": "stderr",
          "text": [
            "WARNING:tensorflow:From /usr/local/lib/python3.8/dist-packages/tensorflow/python/profiler/internal/flops_registry.py:138: tensor_shape_from_node_def_name (from tensorflow.python.framework.graph_util_impl) is deprecated and will be removed in a future version.\n",
            "Instructions for updating:\n",
            "Use `tf.compat.v1.graph_util.tensor_shape_from_node_def_name`\n"
          ]
        },
        {
          "output_type": "stream",
          "name": "stdout",
          "text": [
            "Flops should be ~ 7200\n",
            "TF stats gives 400\n",
            "Flops should be ~ 7200\n",
            "TF stats gives 144\n",
            "Flops should be ~ 7200\n",
            "TF stats gives 7200\n"
          ]
        }
      ],
      "source": [
        "import tensorflow as tf\n",
        "import tensorflow.python.framework.ops as ops\n",
        "\n",
        "g = tf.Graph()\n",
        "with g.as_default():\n",
        "    A = tf.Variable(tf.random.normal( [25,16] ))\n",
        "    B = tf.Variable(tf.random.normal( [16,9]))\n",
        "    C = tf.matmul(A,B) # shape=[25,9]\n",
        "\n",
        "for op in g.get_operations():\n",
        "    flops = ops.get_stats_for_node_def(g, op.node_def, 'flops').value\n",
        "    if flops is not None:\n",
        "      print ('Flops should be ~',2*25*16*9)\n",
        "      print ('TF stats gives',flops)"
      ]
    }
  ]
}