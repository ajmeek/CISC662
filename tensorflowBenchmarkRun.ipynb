{
  "nbformat": 4,
  "nbformat_minor": 0,
  "metadata": {
    "colab": {
      "provenance": [],
      "authorship_tag": "ABX9TyOHLA96ajJf0jZkzC4eMWqi",
      "include_colab_link": true
    },
    "kernelspec": {
      "name": "python3",
      "display_name": "Python 3"
    },
    "language_info": {
      "name": "python"
    }
  },
  "cells": [
    {
      "cell_type": "markdown",
      "metadata": {
        "id": "view-in-github",
        "colab_type": "text"
      },
      "source": [
        "<a href=\"https://colab.research.google.com/github/ameek2/CISC662/blob/master/tensorflowBenchmarkRun.ipynb\" target=\"_parent\"><img src=\"https://colab.research.google.com/assets/colab-badge.svg\" alt=\"Open In Colab\"/></a>"
      ]
    },
    {
      "cell_type": "code",
      "execution_count": 6,
      "metadata": {
        "id": "NUsPzd90RGhO"
      },
      "outputs": [],
      "source": [
        "import tensorflow as tf\n",
        "from tensorflow import keras\n",
        "from tensorflow.keras import layers\n",
        "import tensorflow.python.framework.ops as ops\n",
        "import os\n",
        "import tensorflow_datasets as tfds"
      ]
    },
    {
      "cell_type": "markdown",
      "source": [
        "Imports. Will cull as needed"
      ],
      "metadata": {
        "id": "jYqLKxHwTYk2"
      }
    },
    {
      "cell_type": "markdown",
      "source": [
        "Basic code stolen from\n",
        "https://colab.research.google.com/github/tensorflow/docs/blob/master/site/en/tutorials/quickstart/beginner.ipynb#scrollTo=3wF5wszaj97Y"
      ],
      "metadata": {
        "id": "4iETsEq2cIi0"
      }
    },
    {
      "cell_type": "code",
      "source": [
        "g = tf.Graph()\n",
        "with g.as_default():\n",
        "  mnist = tf.keras.datasets.mnist\n",
        "\n",
        "  (x_train, y_train), (x_test, y_test) = mnist.load_data()\n",
        "  x_train, x_test = x_train/ 255.0, x_test/255.0\n",
        "  model = tf.keras.models.Seqeuential([\n",
        "      tf.keras.layers.Flatten(input_shape=(28, 28)),\n",
        "      tf.keras.layers.Dense(128, activation='relu'),\n",
        "      tf.keras.layers.Dropout(0.2),\n",
        "      tf.keras.layers.Dense(10)\n",
        "  ])\n",
        "\n",
        "  predictions = model(x_train[:1]).numpy()\n",
        "\n",
        "  tf.nn.softmax(predictions).numpy()\n",
        "  loss_fn = tf.keras.losses.SparseCategoricalCrossentropy(from_logits=True)\n",
        "  loss_fn(y_train[:1], predictions).numpy()\n",
        "\n",
        "  model.compile(optimizer='adam',loss=loss_fn, metrics= ['accuracy'])\n",
        "  model.fit(x_train,y_train,epochs=5)\n",
        "  model.evaluate(x_test, y_test, verbose=2)\n",
        "  probability_model = tf.keras.Sequential([model, tf.keras.layers.Softmax()])\n",
        "  probability_model(x_test[:5])\n",
        "\n",
        "for op in g.get_operations():\n",
        "  flops = ops.get_stats_for_node_def(g, op.node_def, 'flops').value\n",
        "  if flops is not None:\n",
        "    print ('TF stats gives', flops)"
      ],
      "metadata": {
        "id": "pI_Wll_PaR3i"
      },
      "execution_count": null,
      "outputs": []
    },
    {
      "cell_type": "code",
      "source": [],
      "metadata": {
        "id": "ijmCJwWPadJS"
      },
      "execution_count": null,
      "outputs": []
    },
    {
      "cell_type": "code",
      "source": [],
      "metadata": {
        "id": "814lpgA_bTos"
      },
      "execution_count": null,
      "outputs": []
    }
  ]
}